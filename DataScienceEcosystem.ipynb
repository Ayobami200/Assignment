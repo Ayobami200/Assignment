{
 "cells": [
  {
   "cell_type": "markdown",
   "id": "3790458b",
   "metadata": {},
   "source": [
    "# Data Science Tools and Ecosystem"
   ]
  },
  {
   "cell_type": "markdown",
   "id": "0b7afc0d",
   "metadata": {},
   "source": [
    "### In this notebook, Data Science Tools and Ecosystem are summarized."
   ]
  },
  {
   "cell_type": "markdown",
   "id": "5a51613c",
   "metadata": {},
   "source": [
    "#### commonly used Languages for data science\n",
    "1. Python\n",
    "2. R\n",
    "3. java"
   ]
  },
  {
   "cell_type": "markdown",
   "id": "2e97c6bd",
   "metadata": {},
   "source": [
    "## Commonly Used Libraries by Data Scientists\n",
    "\n",
    "1. NumPy\n",
    "2. pandas\n",
    "3. Matplotlib\n",
    "4. Seaborn\n",
    "5. SciPy\n",
    "6. Scikit-learn\n",
    "7. TensorFlow\n",
    "8. Keras\n",
    "9. PyTorch\n",
    "10. NLTK (Natural Language Toolkit)\n"
   ]
  },
  {
   "cell_type": "markdown",
   "id": "84eb526e",
   "metadata": {},
   "source": [
    "| Data Science Tools |\n",
    "|-------------------|\n",
    "| Jupyter Notebook  |\n",
    "| RStudio           |\n",
    "| VS Code           |\n",
    "\n"
   ]
  },
  {
   "cell_type": "markdown",
   "id": "57a583b6",
   "metadata": {},
   "source": [
    "### Examples of Evaluating Arithmetic Expressions in Python\n",
    "\n",
    "Below are a few examples of evaluating arithmetic expressions in Python:\n",
    "\n",
    "| Expression                | Result |\n",
    "|---------------------------|--------|\n",
    "| 5 + 3                     | 8      |\n",
    "| 10 - 4                    | 6      |\n",
    "| 2 * 6                     | 12     |\n",
    "| 15 / 3                    | 5.0    |\n",
    "| 7 // 3                    | 2      |\n",
    "| 7 % 3                     | 1      |\n",
    "| 2 ** 4                    | 16     |\n"
   ]
  },
  {
   "cell_type": "code",
   "execution_count": 2,
   "id": "fd0a0aa2",
   "metadata": {},
   "outputs": [
    {
     "name": "stdout",
     "output_type": "stream",
     "text": [
      "17\n"
     ]
    }
   ],
   "source": [
    "# This is a simple arithmetic expression to multiply then add integers\n",
    "result = (3 * 4) + 5\n",
    "print(result)\n"
   ]
  },
  {
   "cell_type": "code",
   "execution_count": 3,
   "id": "f55fc726",
   "metadata": {},
   "outputs": [
    {
     "name": "stdout",
     "output_type": "stream",
     "text": [
      "3.3333333333333335\n"
     ]
    }
   ],
   "source": [
    "# This will convert 200 minutes to hours by dividing by 60\n",
    "minutes = 200\n",
    "hours = minutes / 60\n",
    "print(hours)\n"
   ]
  },
  {
   "cell_type": "markdown",
   "id": "1f8d74d2",
   "metadata": {},
   "source": [
    "**Objectives:**\n",
    "\n",
    "- List popular languages for Data Science.\n",
    "- Introduce common development environments used in Data Science.\n",
    "- Demonstrate basic arithmetic operations in Python.\n",
    "- Illustrate conversion of units (minutes to hours) using Python.\n"
   ]
  },
  {
   "cell_type": "markdown",
   "id": "23e2e130",
   "metadata": {},
   "source": [
    "## Author\n",
    "\n",
    "Adejumo Samuel\n"
   ]
  },
  {
   "cell_type": "code",
   "execution_count": null,
   "id": "35388e8d",
   "metadata": {},
   "outputs": [],
   "source": []
  }
 ],
 "metadata": {
  "kernelspec": {
   "display_name": "Python 3 (ipykernel)",
   "language": "python",
   "name": "python3"
  },
  "language_info": {
   "codemirror_mode": {
    "name": "ipython",
    "version": 3
   },
   "file_extension": ".py",
   "mimetype": "text/x-python",
   "name": "python",
   "nbconvert_exporter": "python",
   "pygments_lexer": "ipython3",
   "version": "3.10.9"
  }
 },
 "nbformat": 4,
 "nbformat_minor": 5
}
